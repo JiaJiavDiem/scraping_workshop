{
 "cells": [
  {
   "cell_type": "code",
   "execution_count": 1,
   "metadata": {},
   "outputs": [
    {
     "data": {
      "text/plain": [
       "'\\nCreated on Sun Jun  9 17:09:58 2019\\n\\n@author: chris\\n'"
      ]
     },
     "execution_count": 1,
     "metadata": {},
     "output_type": "execute_result"
    }
   ],
   "source": [
    "#!/usr/bin/env python3\n",
    "# -*- coding: utf-8 -*-\n",
    "\"\"\"\n",
    "Created on Sun Jun  9 17:09:58 2019\n",
    "\n",
    "@author: chris\n",
    "\"\"\"\n",
    "\n",
    "# This file contains the names and URL of companies to scrape\n",
    "# Start: emtpy file\n",
    "# End: companies in SQLite database\n",
    "\n",
    "# Step1A: Set up a SQLite database\n",
    "# Step1B: Set up tables in the database\n",
    "# Step1C: Reading the CSV file and writing to the SQLite file\n",
    "# Step1D: Additional characteristics can be added to the company info"
   ]
  },
  {
   "cell_type": "code",
   "execution_count": 2,
   "metadata": {},
   "outputs": [],
   "source": [
    "# code party taken from http://www.sqlitetutorial.net/sqlite-python/creating-database/\n",
    "import sqlite3\n",
    "from sqlite3 import Error\n",
    "\n",
    "# create a new database - not needed as the connection creates it if needed\n",
    "# create connection\n",
    "def create_connection(db_file):\n",
    "    try:\n",
    "        conn = sqlite3.connect(db_file)\n",
    "        print(\"conn open\")\n",
    "        print(sqlite3.version)\n",
    "        return conn\n",
    "    except Error as e:\n",
    "        print(e)\n",
    "\n",
    "    return None"
   ]
  },
  {
   "cell_type": "code",
   "execution_count": 3,
   "metadata": {},
   "outputs": [],
   "source": [
    "# create table with paramaters connection and sql for table\n",
    "def create_table(conn, create_table_sql):\n",
    "    try:\n",
    "        c = conn.cursor()\n",
    "        c.execute(create_table_sql)\n",
    "    except Error as e:\n",
    "        print(e)"
   ]
  },
  {
   "cell_type": "code",
   "execution_count": 4,
   "metadata": {},
   "outputs": [],
   "source": [
    "# create table with paramaters connection and sql for table\n",
    "def modify_table(conn, create_table_sql):\n",
    "    try:\n",
    "        c = conn.cursor()\n",
    "        c.execute(create_table_sql)\n",
    "    except Error as e:\n",
    "        print(e)"
   ]
  },
  {
   "cell_type": "code",
   "execution_count": 5,
   "metadata": {},
   "outputs": [],
   "source": [
    "sql_create_companies_table = \"\"\"\n",
    "        CREATE TABLE IF NOT EXISTS companies(\n",
    "        id integer PRIMARY KEY,\n",
    "        Company text NOT NULL,\n",
    "        Website text,\n",
    "        CountryOfIncorporation text,\n",
    "        MarketDomain text        \n",
    "        );\"\"\"\n",
    "\n",
    "sql_create_1stscrape_table = \"\"\"\n",
    "        CREATE TABLE IF NOT EXISTS firstScrape(\n",
    "        Company text NOT NULL,\n",
    "        Website text,\n",
    "        Scraped_text text,\n",
    "        Links_1st text,\n",
    "        Company_id integer NOT NULL\n",
    "        );\"\"\"\n",
    "\n",
    "[\"Company\", \"ID_link\", \"URL\", \"Source_code\", \"Text\"]\n",
    "\n",
    "sql_create_2ndscrape_table = \"\"\"\n",
    "        CREATE TABLE IF NOT EXISTS secondScrape(\n",
    "        Company text NOT NULL,\n",
    "        ID_link integer NOT NULL,\n",
    "        URL text,\n",
    "        Source_code text,\n",
    "        Text text\n",
    "        );\"\"\"\n",
    "\n",
    "sql_create_topics = \"\"\"\n",
    "        CREATE TABLE IF NOT EXISTS topics(\n",
    "        index_topic int,\n",
    "        topic text\n",
    "        );\"\"\""
   ]
  },
  {
   "cell_type": "code",
   "execution_count": 6,
   "metadata": {},
   "outputs": [],
   "source": [
    "def main():\n",
    "        # define the database        \n",
    "        database = \"scrape.db\"\n",
    "                        \n",
    "        # create a database connection\n",
    "        conn = create_connection(database)\n",
    "\n",
    "        if conn is not None:\n",
    "            # create project table\n",
    "            create_table(conn, sql_create_companies_table)\n",
    "            create_table(conn, sql_create_1stscrape_table)\n",
    "            create_table(conn, sql_create_2ndscrape_table)\n",
    "#             create_table(conn, sql_create_topics)\n",
    "        \n",
    "            num_topics_int = 10\n",
    "\n",
    "            for num in range(num_topics_int):\n",
    "                name = \"Score_\" + str(num)\n",
    "                modify_table(conn, (\"ALTER TABLE secondScrape ADD \" + name + \" integer\"))\n",
    "                        \n",
    "            print(\"all succeeded\")\n",
    "\n",
    "        else:\n",
    "\n",
    "            print(\" error! cannot create the database connection\")  "
   ]
  },
  {
   "cell_type": "code",
   "execution_count": 7,
   "metadata": {},
   "outputs": [
    {
     "name": "stdout",
     "output_type": "stream",
     "text": [
      "conn open\n",
      "2.6.0\n",
      "all succeeded\n"
     ]
    }
   ],
   "source": [
    "if __name__ == '__main__':\n",
    "    main()\n",
    "    "
   ]
  }
 ],
 "metadata": {
  "kernelspec": {
   "display_name": "Python 3",
   "language": "python",
   "name": "python3"
  },
  "language_info": {
   "codemirror_mode": {
    "name": "ipython",
    "version": 3
   },
   "file_extension": ".py",
   "mimetype": "text/x-python",
   "name": "python",
   "nbconvert_exporter": "python",
   "pygments_lexer": "ipython3",
   "version": "3.7.3"
  }
 },
 "nbformat": 4,
 "nbformat_minor": 2
}
