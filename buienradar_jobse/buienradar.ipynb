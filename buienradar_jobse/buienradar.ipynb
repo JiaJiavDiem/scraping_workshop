{
 "cells": [
  {
   "cell_type": "markdown",
   "metadata": {},
   "source": [
    "# API template\n",
    "*This version: 14 June 2019*\n",
    "\n",
    "Comments: h.datta@tilburguniversity.edu\n",
    "\n",
    "**Requires Python 3.x**"
   ]
  },
  {
   "cell_type": "markdown",
   "metadata": {},
   "source": [
    "## Retrieving weather data from Buienradar every 10 minutes"
   ]
  },
  {
   "cell_type": "markdown",
   "metadata": {},
   "source": [
    "## (0) Setup"
   ]
  },
  {
   "cell_type": "code",
   "execution_count": null,
   "metadata": {},
   "outputs": [],
   "source": [
    "# Load packages\n",
    "import json\n",
    "import requests\n",
    "import urllib.parse\n",
    "import time\n",
    "import datetime\n",
    "\n",
    "# Defeine input and output files\n",
    "fn_json = 'output.json'\n",
    "fn_output = 'weer.csv'\n",
    "sleep_minutes = 10\n",
    "sep='\\t' # separation character for csv output file\n",
    "\n",
    "def reset():\n",
    "    # Reset file\n",
    "    f=open(fn_json,'w')\n",
    "    f.close()\n",
    "    \n",
    "def collect():\n",
    "    output = open(fn_json, 'a', encoding='UTF-8')\n",
    "    url='https://data.buienradar.nl/2.0/feed/json'\n",
    "    get = requests.get(url)\n",
    "    output.write(get.text.replace('\\n',''))\n",
    "    output.write('\\n')\n",
    "    output.close()\n",
    "    \n",
    "def parse():\n",
    "    f = open(fn_json, 'r', encoding='UTF-8')\n",
    "    data = f.readlines()\n",
    "    f.close()\n",
    "\n",
    "    csvfile = open(fn_output, 'w', encoding = 'UTF-8')\n",
    "\n",
    "    fields=['timestamp','stationname','regio','temperature']\n",
    "\n",
    "    \n",
    "    # write header\n",
    "    csvfile.write(sep.join(fields)+'\\n')\n",
    "\n",
    "    cnt=0\n",
    "\n",
    "    for d in data:\n",
    "        #print(cnt)\n",
    "        jsonobj = json.loads(d)\n",
    "        for stationmeasurements in jsonobj.get('actual').get('stationmeasurements'):\n",
    "                collected=[]\n",
    "                for f in fields:\n",
    "                    try:\n",
    "                        collected.append(str(stationmeasurements.get(f)).replace(sep,''))\n",
    "                    except:\n",
    "                        collected.append('NA')\n",
    "                csvfile.write(sep.join(collected)+'\\n')\n",
    "        cnt+=1\n",
    "\n",
    "    csvfile.close()\n"
   ]
  },
  {
   "cell_type": "markdown",
   "metadata": {},
   "source": [
    "## (1) Obtain data at Buienradar"
   ]
  },
  {
   "cell_type": "code",
   "execution_count": null,
   "metadata": {},
   "outputs": [],
   "source": [
    "def run():\n",
    "    while 1==1:\n",
    "        print('Collecting data: ' + datetime.datetime.fromtimestamp(time.time()).strftime('%Y-%m-%d %H:%M:%S'))\n",
    "        collect()\n",
    "        print('Sleeping...')\n",
    "        time.sleep(60*sleep_minutes)\n",
    "#reset()\n",
    "run()"
   ]
  },
  {
   "cell_type": "markdown",
   "metadata": {},
   "source": [
    "### (3) Parse to CSV"
   ]
  },
  {
   "cell_type": "code",
   "execution_count": null,
   "metadata": {},
   "outputs": [],
   "source": [
    "parse()"
   ]
  },
  {
   "cell_type": "markdown",
   "metadata": {},
   "source": [
    "## 4) Load into pandas"
   ]
  },
  {
   "cell_type": "code",
   "execution_count": null,
   "metadata": {},
   "outputs": [],
   "source": [
    "import pandas as pd \n",
    "# Read data from file 'filename.csv' \n",
    "# (in the same directory that your python process is based)\n",
    "# Control delimiters, rows, column names with read_csv (see later) \n",
    "data = pd.read_csv(\"weer.csv\", sep=sep) \n",
    "# Preview the first 5 lines of the loaded data \n",
    "data"
   ]
  },
  {
   "cell_type": "markdown",
   "metadata": {},
   "source": [
    "## (5) Parse to SQL"
   ]
  },
  {
   "cell_type": "markdown",
   "metadata": {},
   "source": [
    "- Discuss JSON versus SQL"
   ]
  },
  {
   "cell_type": "code",
   "execution_count": null,
   "metadata": {},
   "outputs": [],
   "source": []
  }
 ],
 "metadata": {
  "kernelspec": {
   "display_name": "Python 3",
   "language": "python",
   "name": "python3"
  }
 },
 "nbformat": 4,
 "nbformat_minor": 2
}
