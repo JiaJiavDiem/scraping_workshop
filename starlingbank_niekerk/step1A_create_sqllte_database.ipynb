{
 "cells": [
  {
   "cell_type": "code",
   "execution_count": 1,
   "metadata": {},
   "outputs": [],
   "source": [
    "#!/usr/bin/env python3\n",
    "# -*- coding: utf-8 -*-\n",
    "\"\"\"\n",
    "Created on Sun Jun  9 17:09:58 2019\n",
    "\n",
    "@author: chris\n",
    "\"\"\"\n",
    "\n",
    "# This file contains the names and URL of companies to scrape\n",
    "# Start: emtpy file\n",
    "# End: companies in SQLite database\n",
    "\n",
    "# Step1A: Set up a SQLite database\n",
    "# Step1B: Set up tables in the database\n",
    "# Step1C: Reading the CSV file and writing to the SQLite file\n",
    "# Step1D: Additional characteristics can be added to the company info\n",
    "\n",
    "# code taken from http://www.sqlitetutorial.net/sqlite-python/creating-database/\n",
    "import sqlite3\n",
    "from sqlite3 import Error"
   ]
  },
  {
   "cell_type": "code",
   "execution_count": 2,
   "metadata": {},
   "outputs": [],
   "source": [
    "# create a new database - not needed as the connection creates it if needed\n",
    "# create connection\n",
    "def create_connection(db_file):\n",
    "    try:\n",
    "        conn = sqlite3.connect(db_file)\n",
    "        print(\"conn open\")\n",
    "        print(sqlite3.version)\n",
    "    except Error as e:\n",
    "        print(e)\n",
    "# check out whether this does not close off the connection too early\n",
    "    finally:\n",
    "        conn.close()"
   ]
  },
  {
   "cell_type": "code",
   "execution_count": 3,
   "metadata": {},
   "outputs": [],
   "source": [
    "def main():\n",
    "        # define the database        \n",
    "        database = \"scrape.db\"\n",
    "                        \n",
    "        # create a database connection\n",
    "        create_connection(database)\n",
    "        \n",
    "        print(\"done\")"
   ]
  },
  {
   "cell_type": "code",
   "execution_count": 4,
   "metadata": {},
   "outputs": [
    {
     "name": "stdout",
     "output_type": "stream",
     "text": [
      "conn open\n",
      "2.6.0\n",
      "done\n"
     ]
    }
   ],
   "source": [
    "if __name__ == '__main__':\n",
    "    main()\n",
    "\n",
    "    "
   ]
  }
 ],
 "metadata": {
  "kernelspec": {
   "display_name": "Python 3",
   "language": "python",
   "name": "python3"
  },
  "language_info": {
   "codemirror_mode": {
    "name": "ipython",
    "version": 3
   },
   "file_extension": ".py",
   "mimetype": "text/x-python",
   "name": "python",
   "nbconvert_exporter": "python",
   "pygments_lexer": "ipython3",
   "version": "3.7.3"
  }
 },
 "nbformat": 4,
 "nbformat_minor": 2
}
