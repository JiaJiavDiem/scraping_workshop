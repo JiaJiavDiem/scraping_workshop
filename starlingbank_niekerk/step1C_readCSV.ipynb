{
 "cells": [
  {
   "cell_type": "code",
   "execution_count": 1,
   "metadata": {},
   "outputs": [
    {
     "data": {
      "text/plain": [
       "'\\nCreated on Sun Jun  9 17:09:58 2019\\n\\n@author: chris\\n'"
      ]
     },
     "execution_count": 1,
     "metadata": {},
     "output_type": "execute_result"
    }
   ],
   "source": [
    "#!/usr/bin/env python3\n",
    "# -*- coding: utf-8 -*-\n",
    "\"\"\"\n",
    "Created on Sun Jun  9 17:09:58 2019\n",
    "\n",
    "@author: chris\n",
    "\"\"\"\n",
    "\n",
    "# This file contains the names and URL of companies to scrape\n",
    "# Start: emtpy file\n",
    "# End: companies in SQLite database\n",
    "\n",
    "# Step1A: Set up a SQLite database\n",
    "# Step1B: Set up tables in the database\n",
    "# Step1C: Reading the CSV file and writing to the SQLite file\n",
    "# Step1D: Additional characteristics can be added to the company info\n",
    "\n",
    "# code taken from http://www.sqlitetutorial.net/sqlite-python/creating-database/"
   ]
  },
  {
   "cell_type": "code",
   "execution_count": 2,
   "metadata": {},
   "outputs": [],
   "source": [
    "import pandas as pd\n",
    "import sqlite3\n",
    "from sqlite3 import Error\n",
    "\n",
    "def read_CSV(file):\n",
    "    df_CSV = pd.read_csv(file, sep=';')\n",
    "    print(df_CSV.head())\n",
    "    return df_CSV"
   ]
  },
  {
   "cell_type": "code",
   "execution_count": 3,
   "metadata": {},
   "outputs": [],
   "source": [
    "def create_connection(db_file):\n",
    "    try:\n",
    "        conn = sqlite3.connect(db_file)\n",
    "        print(\"conn open\")\n",
    "        print(sqlite3.version)\n",
    "        return conn\n",
    "    except Error as e:\n",
    "        print(e)\n",
    "\n",
    "    return None\n",
    "    "
   ]
  },
  {
   "cell_type": "code",
   "execution_count": 4,
   "metadata": {},
   "outputs": [],
   "source": [
    "def write_to_db(df, table, conn):\n",
    "    df.to_sql(table, conn, if_exists=\"replace\")"
   ]
  },
  {
   "cell_type": "code",
   "execution_count": 5,
   "metadata": {},
   "outputs": [],
   "source": [
    "def main():\n",
    "    df_CSV = read_CSV(\"191005_PilotGroup.csv\")\n",
    "    database = \"scrape.db\"\n",
    "    table = \"companies\"\n",
    "    conn = create_connection(database)\n",
    "    write_to_db(df_CSV, table, conn)\n",
    "    conn.close()\n",
    "    "
   ]
  },
  {
   "cell_type": "code",
   "execution_count": 6,
   "metadata": {},
   "outputs": [
    {
     "name": "stdout",
     "output_type": "stream",
     "text": [
      "         Company               Website CountryOfIncorporation MarketDomain  \\\n",
      "0  Starling Bank  www.starlingbank.com                     UK       Europe   \n",
      "1            N26           www.n26.com                Germany       Europe   \n",
      "\n",
      "   Unnamed: 4  Unnamed: 5  \n",
      "0         NaN         NaN  \n",
      "1         NaN         NaN  \n",
      "conn open\n",
      "2.6.0\n"
     ]
    },
    {
     "name": "stderr",
     "output_type": "stream",
     "text": [
      "/opt/conda/lib/python3.7/site-packages/pandas/core/generic.py:2713: UserWarning: The spaces in these column names will not be changed. In pandas versions < 0.14, spaces were converted to underscores.\n",
      "  method=method,\n"
     ]
    }
   ],
   "source": [
    "if __name__ == \"__main__\":\n",
    "    main()"
   ]
  },
  {
   "cell_type": "code",
   "execution_count": 7,
   "metadata": {},
   "outputs": [
    {
     "data": {
      "text/html": [
       "<div>\n",
       "<style scoped>\n",
       "    .dataframe tbody tr th:only-of-type {\n",
       "        vertical-align: middle;\n",
       "    }\n",
       "\n",
       "    .dataframe tbody tr th {\n",
       "        vertical-align: top;\n",
       "    }\n",
       "\n",
       "    .dataframe thead th {\n",
       "        text-align: right;\n",
       "    }\n",
       "</style>\n",
       "<table border=\"1\" class=\"dataframe\">\n",
       "  <thead>\n",
       "    <tr style=\"text-align: right;\">\n",
       "      <th></th>\n",
       "      <th>Company;Website;CountryOfIncorporation;MarketDomain;;</th>\n",
       "    </tr>\n",
       "  </thead>\n",
       "  <tbody>\n",
       "    <tr>\n",
       "      <th>0</th>\n",
       "      <td>Starling Bank;www.starlingbank.com;UK;Europe;;</td>\n",
       "    </tr>\n",
       "    <tr>\n",
       "      <th>1</th>\n",
       "      <td>N26;www.n26.com;Germany;Europe;;</td>\n",
       "    </tr>\n",
       "  </tbody>\n",
       "</table>\n",
       "</div>"
      ],
      "text/plain": [
       "  Company;Website;CountryOfIncorporation;MarketDomain;;\n",
       "0     Starling Bank;www.starlingbank.com;UK;Europe;;   \n",
       "1                   N26;www.n26.com;Germany;Europe;;   "
      ]
     },
     "execution_count": 7,
     "metadata": {},
     "output_type": "execute_result"
    }
   ],
   "source": [
    "pd.read_csv(\"191005_PilotGroup.csv\").head()"
   ]
  }
 ],
 "metadata": {
  "kernelspec": {
   "display_name": "Python 3",
   "language": "python",
   "name": "python3"
  },
  "language_info": {
   "codemirror_mode": {
    "name": "ipython",
    "version": 3
   },
   "file_extension": ".py",
   "mimetype": "text/x-python",
   "name": "python",
   "nbconvert_exporter": "python",
   "pygments_lexer": "ipython3",
   "version": "3.7.3"
  }
 },
 "nbformat": 4,
 "nbformat_minor": 2
}
