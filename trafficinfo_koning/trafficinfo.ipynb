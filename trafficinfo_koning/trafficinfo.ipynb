{
 "cells": [
  {
   "cell_type": "markdown",
   "metadata": {},
   "source": [
    "# Traffic information Netherlands\n",
    "The intention of this Python script is to scrape actual travel information about expected delays.\n",
    "The first part will do this for traffic, the second part can do this for trains.\n",
    "\n",
    "Source: https://www.anwb.nl/feeds/gethf"
   ]
  },
  {
   "cell_type": "markdown",
   "metadata": {},
   "source": [
    "### Init all necessary libraries"
   ]
  },
  {
   "cell_type": "code",
   "execution_count": 55,
   "metadata": {},
   "outputs": [],
   "source": [
    "# Load packages into memory\n",
    "import requests\n",
    "import json\n",
    "import pandas as pd\n",
    "import seaborn as sns\n",
    "\n",
    "from pandas.io.json import json_normalize\n",
    "\n",
    "from tinydb import TinyDB\n",
    "\n",
    "dbname='traffic_db.json'"
   ]
  },
  {
   "cell_type": "markdown",
   "metadata": {},
   "source": [
    "### Retrieve collected raw data"
   ]
  },
  {
   "cell_type": "code",
   "execution_count": 56,
   "metadata": {},
   "outputs": [
    {
     "data": {
      "text/plain": [
       "'0.24.2'"
      ]
     },
     "execution_count": 56,
     "metadata": {},
     "output_type": "execute_result"
    }
   ],
   "source": [
    "# Let's get the current VAT rate in the EU\n",
    "dbname='traffic_db.json'\n",
    "db = TinyDB(dbname)\n",
    "\n",
    "all_data = db.all()\n",
    "\n",
    "# Pandas version 0.25 contains new parameter max_level in json_normalize.\n",
    "pd.__version__"
   ]
  },
  {
   "cell_type": "markdown",
   "metadata": {},
   "source": [
    "### Translate JSON data into dataframe (separate parsing from data collection)"
   ]
  },
  {
   "cell_type": "code",
   "execution_count": 57,
   "metadata": {},
   "outputs": [],
   "source": [
    "traffic_data = pd.DataFrame()\n",
    "\n",
    "for jso in all_data:# Create json object from returned text\n",
    "    #jso = json.loads(routeInfo.text)\n",
    "    # Create dataframe from json object roadEntries\n",
    "    trafficdf = json_normalize(jso['roadEntries'])\n",
    "\n",
    "    # Drop unnecessary columns (I did not find any documentation about the webservice yet to only retrieve what I need.)\n",
    "    trafficdf.drop(columns = ['events.roadWorks','events.radars'],inplace=True)\n",
    "\n",
    "    # Read the number of trafficJams and filter the dataframe on it.\n",
    "    trafficdf['listlength'] = trafficdf['events.trafficJams'].apply(lambda x : len(x))\n",
    "    trafficdf = trafficdf[trafficdf['listlength'] > 0]\n",
    "    trafficdf.drop(columns = ['listlength'], inplace=True)\n",
    "    trafficdf['timestap'] = datetime.now()\n",
    "\n",
    "    # Pop all trafficjams, normalize and join back to dataframe to keep road info.\n",
    "    trafficdf = (pd.concat({i: json_normalize(x) for i, x in trafficdf.pop('events.trafficJams').items()}, sort=True)\n",
    "             .reset_index(level=1, drop=True)\n",
    "             .join(trafficdf)\n",
    "             .reset_index(drop=True))\n",
    "\n",
    "    # Drop all items where no delays are mentioned.\n",
    "    trafficdf = trafficdf.dropna()\n",
    "    trafficdf.drop(columns=['events'],inplace=True)\n",
    "\n",
    "    # Set index to msgNr.\n",
    "    #trafficdf.set_index('msgNr', inplace=True)\n",
    "    traffic_data=traffic_data.append(trafficdf)\n",
    "    #trafficdf.tail()"
   ]
  },
  {
   "cell_type": "markdown",
   "metadata": {},
   "source": [
    "### Have a look at trafficinfo"
   ]
  },
  {
   "cell_type": "code",
   "execution_count": 58,
   "metadata": {},
   "outputs": [
    {
     "name": "stdout",
     "output_type": "stream",
     "text": [
      "delay          47\n",
      "description    47\n",
      "distance       47\n",
      "from           47\n",
      "fromLoc.lat    47\n",
      "fromLoc.lon    47\n",
      "location       47\n",
      "msgNr          47\n",
      "reason         47\n",
      "segEnd         47\n",
      "segStart       47\n",
      "start          47\n",
      "startDate      47\n",
      "to             47\n",
      "toLoc.lat      47\n",
      "toLoc.lon      47\n",
      "road           47\n",
      "roadType       47\n",
      "timestap       47\n",
      "dtype: int64\n"
     ]
    },
    {
     "data": {
      "text/html": [
       "<div>\n",
       "<style scoped>\n",
       "    .dataframe tbody tr th:only-of-type {\n",
       "        vertical-align: middle;\n",
       "    }\n",
       "\n",
       "    .dataframe tbody tr th {\n",
       "        vertical-align: top;\n",
       "    }\n",
       "\n",
       "    .dataframe thead th {\n",
       "        text-align: right;\n",
       "    }\n",
       "</style>\n",
       "<table border=\"1\" class=\"dataframe\">\n",
       "  <thead>\n",
       "    <tr style=\"text-align: right;\">\n",
       "      <th></th>\n",
       "      <th>delay</th>\n",
       "      <th>description</th>\n",
       "      <th>distance</th>\n",
       "      <th>from</th>\n",
       "      <th>fromLoc.lat</th>\n",
       "      <th>fromLoc.lon</th>\n",
       "      <th>location</th>\n",
       "      <th>msgNr</th>\n",
       "      <th>reason</th>\n",
       "      <th>segEnd</th>\n",
       "      <th>segStart</th>\n",
       "      <th>start</th>\n",
       "      <th>startDate</th>\n",
       "      <th>to</th>\n",
       "      <th>toLoc.lat</th>\n",
       "      <th>toLoc.lon</th>\n",
       "      <th>road</th>\n",
       "      <th>roadType</th>\n",
       "      <th>timestap</th>\n",
       "    </tr>\n",
       "  </thead>\n",
       "  <tbody>\n",
       "    <tr>\n",
       "      <th>8</th>\n",
       "      <td>240.0</td>\n",
       "      <td>Tussen Sliedrecht-West en Hardinxveld-Giessend...</td>\n",
       "      <td>3000.0</td>\n",
       "      <td>Sliedrecht-West</td>\n",
       "      <td>51.83156</td>\n",
       "      <td>4.74547</td>\n",
       "      <td>A15 Rotterdam richting Gorinchem</td>\n",
       "      <td>208179947</td>\n",
       "      <td></td>\n",
       "      <td>Gorinchem</td>\n",
       "      <td>Rotterdam</td>\n",
       "      <td>2019-10-10T10:51:00</td>\n",
       "      <td>10 oktober 2019 12:51 uur</td>\n",
       "      <td>Hardinxveld-Giessendam</td>\n",
       "      <td>51.82443</td>\n",
       "      <td>4.84649</td>\n",
       "      <td>A15</td>\n",
       "      <td>aWegen</td>\n",
       "      <td>2019-10-10 13:16:54.076998</td>\n",
       "    </tr>\n",
       "    <tr>\n",
       "      <th>9</th>\n",
       "      <td>240.0</td>\n",
       "      <td>Tussen Breda-Noord en knp. Sint Annabosch.</td>\n",
       "      <td>2800.0</td>\n",
       "      <td>Breda-Noord</td>\n",
       "      <td>51.59227</td>\n",
       "      <td>4.82889</td>\n",
       "      <td>A27 Gorinchem richting Breda</td>\n",
       "      <td>208179946</td>\n",
       "      <td></td>\n",
       "      <td>Breda</td>\n",
       "      <td>Gorinchem</td>\n",
       "      <td>2019-10-10T09:49:00</td>\n",
       "      <td>10 oktober 2019 11:49 uur</td>\n",
       "      <td>knp. Sint Annabosch</td>\n",
       "      <td>51.55451</td>\n",
       "      <td>4.84305</td>\n",
       "      <td>A27</td>\n",
       "      <td>aWegen</td>\n",
       "      <td>2019-10-10 13:16:54.076998</td>\n",
       "    </tr>\n",
       "    <tr>\n",
       "      <th>10</th>\n",
       "      <td>2040.0</td>\n",
       "      <td>Tussen Oss-Oost en Ravenstein. Door een ongeluk.</td>\n",
       "      <td>8100.0</td>\n",
       "      <td>Oss-Oost</td>\n",
       "      <td>51.72743</td>\n",
       "      <td>5.57317</td>\n",
       "      <td>A50 Eindhoven richting Arnhem</td>\n",
       "      <td>208179938</td>\n",
       "      <td>Door een ongeluk.</td>\n",
       "      <td>Arnhem</td>\n",
       "      <td>Eindhoven</td>\n",
       "      <td>2019-10-10T10:25:30</td>\n",
       "      <td>10 oktober 2019 12:25 uur</td>\n",
       "      <td>Ravenstein</td>\n",
       "      <td>51.78808</td>\n",
       "      <td>5.65334</td>\n",
       "      <td>A50</td>\n",
       "      <td>aWegen</td>\n",
       "      <td>2019-10-10 13:16:54.076998</td>\n",
       "    </tr>\n",
       "    <tr>\n",
       "      <th>11</th>\n",
       "      <td>2640.0</td>\n",
       "      <td>Tussen Tilburg-Centrum West en Ulvenhout. Door...</td>\n",
       "      <td>12000.0</td>\n",
       "      <td>Tilburg-Centrum West</td>\n",
       "      <td>51.53947</td>\n",
       "      <td>5.04758</td>\n",
       "      <td>A58 Tilburg richting Breda</td>\n",
       "      <td>208179936</td>\n",
       "      <td>Door opruimwerkzaamheden. De rechterrijstrook ...</td>\n",
       "      <td>Breda</td>\n",
       "      <td>Tilburg</td>\n",
       "      <td>2019-10-10T09:36:00</td>\n",
       "      <td>10 oktober 2019 11:36 uur</td>\n",
       "      <td>Ulvenhout</td>\n",
       "      <td>51.53705</td>\n",
       "      <td>4.79833</td>\n",
       "      <td>A58</td>\n",
       "      <td>aWegen</td>\n",
       "      <td>2019-10-10 13:16:54.076998</td>\n",
       "    </tr>\n",
       "    <tr>\n",
       "      <th>12</th>\n",
       "      <td>660.0</td>\n",
       "      <td>Tussen afrit Dussen en knp. Hooipolder.</td>\n",
       "      <td>4200.0</td>\n",
       "      <td>afrit Dussen</td>\n",
       "      <td>51.69544</td>\n",
       "      <td>4.98807</td>\n",
       "      <td>A59 Oss richting knp. Zonzeel</td>\n",
       "      <td>208179940</td>\n",
       "      <td></td>\n",
       "      <td>knp. Zonzeel</td>\n",
       "      <td>Oss</td>\n",
       "      <td>2019-10-10T10:11:00</td>\n",
       "      <td>10 oktober 2019 12:11 uur</td>\n",
       "      <td>knp. Hooipolder</td>\n",
       "      <td>51.68725</td>\n",
       "      <td>4.88382</td>\n",
       "      <td>A59</td>\n",
       "      <td>aWegen</td>\n",
       "      <td>2019-10-10 13:16:54.076998</td>\n",
       "    </tr>\n",
       "  </tbody>\n",
       "</table>\n",
       "</div>"
      ],
      "text/plain": [
       "     delay                                        description  distance  \\\n",
       "8    240.0  Tussen Sliedrecht-West en Hardinxveld-Giessend...    3000.0   \n",
       "9    240.0        Tussen Breda-Noord en knp. Sint Annabosch.     2800.0   \n",
       "10  2040.0   Tussen Oss-Oost en Ravenstein. Door een ongeluk.    8100.0   \n",
       "11  2640.0  Tussen Tilburg-Centrum West en Ulvenhout. Door...   12000.0   \n",
       "12   660.0           Tussen afrit Dussen en knp. Hooipolder.     4200.0   \n",
       "\n",
       "                    from  fromLoc.lat  fromLoc.lon  \\\n",
       "8        Sliedrecht-West     51.83156      4.74547   \n",
       "9            Breda-Noord     51.59227      4.82889   \n",
       "10              Oss-Oost     51.72743      5.57317   \n",
       "11  Tilburg-Centrum West     51.53947      5.04758   \n",
       "12          afrit Dussen     51.69544      4.98807   \n",
       "\n",
       "                            location      msgNr  \\\n",
       "8   A15 Rotterdam richting Gorinchem  208179947   \n",
       "9       A27 Gorinchem richting Breda  208179946   \n",
       "10     A50 Eindhoven richting Arnhem  208179938   \n",
       "11        A58 Tilburg richting Breda  208179936   \n",
       "12     A59 Oss richting knp. Zonzeel  208179940   \n",
       "\n",
       "                                               reason        segEnd  \\\n",
       "8                                                         Gorinchem   \n",
       "9                                                             Breda   \n",
       "10                                  Door een ongeluk.        Arnhem   \n",
       "11  Door opruimwerkzaamheden. De rechterrijstrook ...         Breda   \n",
       "12                                                     knp. Zonzeel   \n",
       "\n",
       "     segStart                start                  startDate  \\\n",
       "8   Rotterdam  2019-10-10T10:51:00  10 oktober 2019 12:51 uur   \n",
       "9   Gorinchem  2019-10-10T09:49:00  10 oktober 2019 11:49 uur   \n",
       "10  Eindhoven  2019-10-10T10:25:30  10 oktober 2019 12:25 uur   \n",
       "11    Tilburg  2019-10-10T09:36:00  10 oktober 2019 11:36 uur   \n",
       "12        Oss  2019-10-10T10:11:00  10 oktober 2019 12:11 uur   \n",
       "\n",
       "                        to  toLoc.lat  toLoc.lon road roadType  \\\n",
       "8   Hardinxveld-Giessendam   51.82443    4.84649  A15   aWegen   \n",
       "9      knp. Sint Annabosch   51.55451    4.84305  A27   aWegen   \n",
       "10              Ravenstein   51.78808    5.65334  A50   aWegen   \n",
       "11               Ulvenhout   51.53705    4.79833  A58   aWegen   \n",
       "12         knp. Hooipolder   51.68725    4.88382  A59   aWegen   \n",
       "\n",
       "                     timestap  \n",
       "8  2019-10-10 13:16:54.076998  \n",
       "9  2019-10-10 13:16:54.076998  \n",
       "10 2019-10-10 13:16:54.076998  \n",
       "11 2019-10-10 13:16:54.076998  \n",
       "12 2019-10-10 13:16:54.076998  "
      ]
     },
     "execution_count": 58,
     "metadata": {},
     "output_type": "execute_result"
    }
   ],
   "source": [
    "print(traffic_data.count())\n",
    "\n",
    "traffic_data.tail()"
   ]
  },
  {
   "cell_type": "code",
   "execution_count": 59,
   "metadata": {},
   "outputs": [
    {
     "name": "stdout",
     "output_type": "stream",
     "text": [
      "<class 'pandas.core.frame.DataFrame'>\n",
      "Int64Index: 47 entries, 1 to 12\n",
      "Data columns (total 19 columns):\n",
      "delay          47 non-null float64\n",
      "description    47 non-null object\n",
      "distance       47 non-null float64\n",
      "from           47 non-null object\n",
      "fromLoc.lat    47 non-null float64\n",
      "fromLoc.lon    47 non-null float64\n",
      "location       47 non-null object\n",
      "msgNr          47 non-null object\n",
      "reason         47 non-null object\n",
      "segEnd         47 non-null object\n",
      "segStart       47 non-null object\n",
      "start          47 non-null object\n",
      "startDate      47 non-null object\n",
      "to             47 non-null object\n",
      "toLoc.lat      47 non-null float64\n",
      "toLoc.lon      47 non-null float64\n",
      "road           47 non-null object\n",
      "roadType       47 non-null object\n",
      "timestap       47 non-null datetime64[ns]\n",
      "dtypes: datetime64[ns](1), float64(6), object(12)\n",
      "memory usage: 7.3+ KB\n"
     ]
    }
   ],
   "source": [
    "traffic_data.info()"
   ]
  },
  {
   "cell_type": "code",
   "execution_count": 60,
   "metadata": {},
   "outputs": [
    {
     "data": {
      "text/plain": [
       "Text(0.5, 1.0, 'Actual Delays')"
      ]
     },
     "execution_count": 60,
     "metadata": {},
     "output_type": "execute_result"
    },
    {
     "data": {
      "image/png": "[encoded data removed]",
      "text/plain": [
       "<Figure size 432x288 with 1 Axes>"
      ]
     },
     "metadata": {
      "needs_background": "light"
     },
     "output_type": "display_data"
    }
   ],
   "source": [
    "latestTimestamp = dftest.timestap.max()\n",
    "#dftest[dftest['timestap']==latestTimestamp].plot(x='start',y='delay')\n",
    "#dftest.plot(x='timestap',y='delay')\n",
    "dftest['delayMinutes'] = dftest['delay'] / 60\n",
    "bp = sns.barplot(x='road',y='delayMinutes',data=dftest[dftest['timestap']==latestTimestamp])\n",
    "#bp.set_xticklabels(bp.get_xticklabels(), rotation=90)\n",
    "bp.set_title('Actual Delays')"
   ]
  },
  {
   "cell_type": "markdown",
   "metadata": {},
   "source": [
    "### Push dataframe to Azure SQL, based on index"
   ]
  },
  {
   "cell_type": "markdown",
   "metadata": {},
   "source": [
    "params = 'DRIVER={SQL Server};' \\\n",
    "         'SERVER=****;' \\\n",
    "         'PORT=1433;' \\\n",
    "         'DATABASE=o365data;' \\\n",
    "         'UID=****;' \\\n",
    "         'PWD=****;'\n",
    "            \n",
    "params = urllib.parse.quote_plus(params)\n",
    "\n",
    "engine = create_engine(\"mssql+pyodbc:///?odbc_connect=%s\" % params)"
   ]
  },
  {
   "cell_type": "markdown",
   "metadata": {},
   "source": [
    "%time trafficdf.to_sql(name='TrafficInformation',con=engine , schema='dbo', if_exists='append', index=False)"
   ]
  }
 ],
 "metadata": {
  "kernelspec": {
   "display_name": "Python 3",
   "language": "python",
   "name": "python3"
  },
  "language_info": {
   "codemirror_mode": {
    "name": "ipython",
    "version": 3
   },
   "file_extension": ".py",
   "mimetype": "text/x-python",
   "name": "python",
   "nbconvert_exporter": "python",
   "pygments_lexer": "ipython3",
   "version": "3.7.3"
  }
 },
 "nbformat": 4,
 "nbformat_minor": 2
}
