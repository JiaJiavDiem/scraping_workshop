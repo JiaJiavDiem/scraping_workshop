{
 "cells": [
  {
   "cell_type": "markdown",
   "metadata": {},
   "source": [
    "# API template\n",
    "*This version: 14 June 2019*\n",
    "\n",
    "Comments: h.datta@tilburguniversity.edu\n",
    "\n",
    "**Requires Python 3.x**"
   ]
  },
  {
   "cell_type": "markdown",
   "metadata": {},
   "source": [
    "## Retrieving weather data from Buienradar every 10 minutes"
   ]
  },
  {
   "cell_type": "markdown",
   "metadata": {},
   "source": [
    "## (0) Setup"
   ]
  },
  {
   "cell_type": "code",
   "execution_count": 1,
   "metadata": {},
   "outputs": [],
   "source": [
    "# Load packages\n",
    "import json\n",
    "import requests\n",
    "import urllib.parse\n",
    "import time\n",
    "import datetime\n",
    "\n",
    "# Defeine input and output files\n",
    "fn_json = 'output.json'\n",
    "fn_output = 'weer.csv'\n",
    "sleep_minutes = 10\n",
    "\n",
    "def reset():\n",
    "    # Reset file\n",
    "    f=open(fn_json,'w')\n",
    "    f.close()\n",
    "    \n",
    "def collect():\n",
    "    output = open(fn_json, 'a', encoding='UTF-8')\n",
    "    url='https://data.buienradar.nl/2.0/feed/json'\n",
    "    get = requests.get(url)\n",
    "    output.write(get.text.replace('\\n',''))\n",
    "    output.write('\\n')\n",
    "    output.close()\n",
    "    \n",
    "def parse():\n",
    "    f = open(fn_json, 'r', encoding='UTF-8')\n",
    "    data = f.readlines()\n",
    "    f.close()\n",
    "\n",
    "    csvfile = open(fn_output, 'w', encoding = 'UTF-8')\n",
    "\n",
    "    fields=['timestamp','stationname','regio','temperature']\n",
    "\n",
    "    sep='\\t' # separation character for csv output file\n",
    "\n",
    "    # write header\n",
    "    csvfile.write(sep.join(fields)+'\\n')\n",
    "\n",
    "    #cnt=0\n",
    "\n",
    "    for d in data:\n",
    "        #print(cnt)\n",
    "        jsonobj = json.loads(d)\n",
    "        for stationmeasurements in jsonobj.get('actual').get('stationmeasurements'):\n",
    "                collected=[]\n",
    "                for f in fields:\n",
    "                    try:\n",
    "                        collected.append(str(stationmeasurements.get(f)).replace(sep,''))\n",
    "                    except:\n",
    "                        collected.append('NA')\n",
    "                csvfile.write(sep.join(collected)+'\\n')\n",
    "        cnt+=1\n",
    "\n",
    "    csvfile.close()\n"
   ]
  },
  {
   "cell_type": "markdown",
   "metadata": {},
   "source": [
    "## (1) Obtain data at Buienradar"
   ]
  },
  {
   "cell_type": "code",
   "execution_count": null,
   "metadata": {},
   "outputs": [
    {
     "name": "stdout",
     "output_type": "stream",
     "text": [
      "Collecting data: 2019-10-08 13:45:13\n"
     ]
    }
   ],
   "source": [
    "def run():\n",
    "    while 1==1:\n",
    "        print('Collecting data: ' + datetime.datetime.fromtimestamp(time.time()).strftime('%Y-%m-%d %H:%M:%S'))\n",
    "        collect()\n",
    "        print('Sleeping...')\n",
    "        time.sleep(60*sleep_minutes)\n",
    "#reset()\n",
    "run()"
   ]
  },
  {
   "cell_type": "markdown",
   "metadata": {},
   "source": [
    "### (3) Parse to CSV"
   ]
  },
  {
   "cell_type": "code",
   "execution_count": 28,
   "metadata": {},
   "outputs": [],
   "source": []
  },
  {
   "cell_type": "markdown",
   "metadata": {},
   "source": [
    "## 4) Load into pandas"
   ]
  },
  {
   "cell_type": "code",
   "execution_count": 30,
   "metadata": {},
   "outputs": [
    {
     "data": {
      "text/html": [
       "<div>\n",
       "<style scoped>\n",
       "    .dataframe tbody tr th:only-of-type {\n",
       "        vertical-align: middle;\n",
       "    }\n",
       "\n",
       "    .dataframe tbody tr th {\n",
       "        vertical-align: top;\n",
       "    }\n",
       "\n",
       "    .dataframe thead th {\n",
       "        text-align: right;\n",
       "    }\n",
       "</style>\n",
       "<table border=\"1\" class=\"dataframe\">\n",
       "  <thead>\n",
       "    <tr style=\"text-align: right;\">\n",
       "      <th></th>\n",
       "      <th>timestamp</th>\n",
       "      <th>stationname</th>\n",
       "      <th>regio</th>\n",
       "      <th>temperature</th>\n",
       "    </tr>\n",
       "  </thead>\n",
       "  <tbody>\n",
       "    <tr>\n",
       "      <th>0</th>\n",
       "      <td>2019-10-08T13:10:00</td>\n",
       "      <td>Meetstation Arcen</td>\n",
       "      <td>Venlo</td>\n",
       "      <td>14.6</td>\n",
       "    </tr>\n",
       "    <tr>\n",
       "      <th>1</th>\n",
       "      <td>2019-10-08T13:10:00</td>\n",
       "      <td>Meetstation Arnhem</td>\n",
       "      <td>Arnhem</td>\n",
       "      <td>14.3</td>\n",
       "    </tr>\n",
       "    <tr>\n",
       "      <th>2</th>\n",
       "      <td>2019-10-08T13:10:00</td>\n",
       "      <td>Meetstation Berkhout</td>\n",
       "      <td>Berkhout</td>\n",
       "      <td>15.5</td>\n",
       "    </tr>\n",
       "    <tr>\n",
       "      <th>3</th>\n",
       "      <td>2019-10-08T13:10:00</td>\n",
       "      <td>Meetstation Cadzand</td>\n",
       "      <td>Cadzand</td>\n",
       "      <td>None</td>\n",
       "    </tr>\n",
       "    <tr>\n",
       "      <th>4</th>\n",
       "      <td>2019-10-08T13:10:00</td>\n",
       "      <td>Meetstation De Bilt</td>\n",
       "      <td>Utrecht</td>\n",
       "      <td>14.8</td>\n",
       "    </tr>\n",
       "  </tbody>\n",
       "</table>\n",
       "</div>"
      ],
      "text/plain": [
       "             timestamp           stationname     regio temperature\n",
       "0  2019-10-08T13:10:00     Meetstation Arcen     Venlo        14.6\n",
       "1  2019-10-08T13:10:00    Meetstation Arnhem    Arnhem        14.3\n",
       "2  2019-10-08T13:10:00  Meetstation Berkhout  Berkhout        15.5\n",
       "3  2019-10-08T13:10:00   Meetstation Cadzand   Cadzand        None\n",
       "4  2019-10-08T13:10:00   Meetstation De Bilt   Utrecht        14.8"
      ]
     },
     "execution_count": 30,
     "metadata": {},
     "output_type": "execute_result"
    }
   ],
   "source": [
    "import pandas as pd \n",
    "# Read data from file 'filename.csv' \n",
    "# (in the same directory that your python process is based)\n",
    "# Control delimiters, rows, column names with read_csv (see later) \n",
    "data = pd.read_csv(\"weer.csv\", sep=sep) \n",
    "# Preview the first 5 lines of the loaded data \n",
    "data.head()\n"
   ]
  },
  {
   "cell_type": "markdown",
   "metadata": {},
   "source": [
    "## (5) Parse to SQL"
   ]
  },
  {
   "cell_type": "markdown",
   "metadata": {},
   "source": [
    "- Discuss JSON versus SQL"
   ]
  },
  {
   "cell_type": "code",
   "execution_count": null,
   "metadata": {},
   "outputs": [],
   "source": []
  }
 ],
 "metadata": {
  "kernelspec": {
   "display_name": "Python 3",
   "language": "python",
   "name": "python3"
  },
  "language_info": {
   "codemirror_mode": {
    "name": "ipython",
    "version": 3
   },
   "file_extension": ".py",
   "mimetype": "text/x-python",
   "name": "python",
   "nbconvert_exporter": "python",
   "pygments_lexer": "ipython3",
   "version": "3.7.3"
  }
 },
 "nbformat": 4,
 "nbformat_minor": 2
}
